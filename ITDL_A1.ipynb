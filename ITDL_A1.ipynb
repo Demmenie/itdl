{
  "cells": [
    {
      "cell_type": "markdown",
      "metadata": {
        "id": "dngvpNa45qpZ"
      },
      "source": [
        "# T1.1: MNIST\n",
        "\n",
        "## mnist_cnn.py\n"
      ]
    },
    {
      "cell_type": "code",
      "execution_count": null,
      "metadata": {
        "id": "NukGEPhW3rcr",
        "vscode": {
          "languageId": "python"
        }
      },
      "outputs": [],
      "source": [
        "'''Trains a simple convnet on the MNIST dataset.\n",
        "\n",
        "Gets to 99.25% test accuracy after 12 epochs\n",
        "(there is still a lot of margin for parameter tuning).\n",
        "16 seconds per epoch on a GRID K520 GPU.\n",
        "'''\n",
        "\n",
        "from __future__ import print_function\n",
        "import keras\n",
        "from keras.datasets import mnist\n",
        "from keras.models import Sequential\n",
        "from keras.layers import Dense, Dropout, Flatten\n",
        "from keras.layers import Conv2D, MaxPooling2D\n",
        "from keras import backend as K\n"
      ]
    },
    {
      "cell_type": "code",
      "execution_count": null,
      "metadata": {
        "colab": {
          "base_uri": "https://localhost:8080/"
        },
        "id": "0jXhNZavvqm1",
        "outputId": "957e09f8-dae3-4bbe-b41a-05e6e539dd9f",
        "vscode": {
          "languageId": "python"
        }
      },
      "outputs": [
        {
          "name": "stdout",
          "output_type": "stream",
          "text": [
            "x_train shape: (60000, 28, 28, 1)\n",
            "60000 train samples\n",
            "10000 test samples\n",
            "Epoch 1/50\n",
            "\u001b[1m469/469\u001b[0m \u001b[32m━━━━━━━━━━━━━━━━━━━━\u001b[0m\u001b[37m\u001b[0m \u001b[1m7s\u001b[0m 14ms/step - accuracy: 0.1136 - loss: 2.2940 - val_accuracy: 0.2643 - val_loss: 2.2412\n",
            "Epoch 2/50\n",
            "\u001b[1m469/469\u001b[0m \u001b[32m━━━━━━━━━━━━━━━━━━━━\u001b[0m\u001b[37m\u001b[0m \u001b[1m6s\u001b[0m 13ms/step - accuracy: 0.2129 - loss: 2.2354 - val_accuracy: 0.4572 - val_loss: 2.1691\n",
            "Epoch 3/50\n",
            "\u001b[1m469/469\u001b[0m \u001b[32m━━━━━━━━━━━━━━━━━━━━\u001b[0m\u001b[37m\u001b[0m \u001b[1m6s\u001b[0m 14ms/step - accuracy: 0.3189 - loss: 2.1640 - val_accuracy: 0.5986 - val_loss: 2.0753\n",
            "Epoch 4/50\n",
            "\u001b[1m469/469\u001b[0m \u001b[32m━━━━━━━━━━━━━━━━━━━━\u001b[0m\u001b[37m\u001b[0m \u001b[1m7s\u001b[0m 15ms/step - accuracy: 0.4181 - loss: 2.0735 - val_accuracy: 0.6562 - val_loss: 1.9492\n",
            "Epoch 5/50\n",
            "\u001b[1m469/469\u001b[0m \u001b[32m━━━━━━━━━━━━━━━━━━━━\u001b[0m\u001b[37m\u001b[0m \u001b[1m7s\u001b[0m 16ms/step - accuracy: 0.4867 - loss: 1.9519 - val_accuracy: 0.6930 - val_loss: 1.7862\n",
            "Epoch 6/50\n",
            "\u001b[1m469/469\u001b[0m \u001b[32m━━━━━━━━━━━━━━━━━━━━\u001b[0m\u001b[37m\u001b[0m \u001b[1m7s\u001b[0m 16ms/step - accuracy: 0.5382 - loss: 1.8043 - val_accuracy: 0.7134 - val_loss: 1.5938\n",
            "Epoch 7/50\n",
            "\u001b[1m469/469\u001b[0m \u001b[32m━━━━━━━━━━━━━━━━━━━━\u001b[0m\u001b[37m\u001b[0m \u001b[1m7s\u001b[0m 16ms/step - accuracy: 0.5846 - loss: 1.6261 - val_accuracy: 0.7401 - val_loss: 1.3884\n",
            "Epoch 8/50\n",
            "\u001b[1m469/469\u001b[0m \u001b[32m━━━━━━━━━━━━━━━━━━━━\u001b[0m\u001b[37m\u001b[0m \u001b[1m7s\u001b[0m 16ms/step - accuracy: 0.6178 - loss: 1.4558 - val_accuracy: 0.7627 - val_loss: 1.1960\n",
            "Epoch 9/50\n",
            "\u001b[1m469/469\u001b[0m \u001b[32m━━━━━━━━━━━━━━━━━━━━\u001b[0m\u001b[37m\u001b[0m \u001b[1m7s\u001b[0m 16ms/step - accuracy: 0.6406 - loss: 1.3072 - val_accuracy: 0.7935 - val_loss: 1.0370\n",
            "Epoch 10/50\n",
            "\u001b[1m469/469\u001b[0m \u001b[32m━━━━━━━━━━━━━━━━━━━━\u001b[0m\u001b[37m\u001b[0m \u001b[1m7s\u001b[0m 16ms/step - accuracy: 0.6673 - loss: 1.1777 - val_accuracy: 0.8176 - val_loss: 0.9112\n",
            "Epoch 11/50\n",
            "\u001b[1m469/469\u001b[0m \u001b[32m━━━━━━━━━━━━━━━━━━━━\u001b[0m\u001b[37m\u001b[0m \u001b[1m7s\u001b[0m 16ms/step - accuracy: 0.6873 - loss: 1.0793 - val_accuracy: 0.8312 - val_loss: 0.8141\n",
            "Epoch 12/50\n",
            "\u001b[1m469/469\u001b[0m \u001b[32m━━━━━━━━━━━━━━━━━━━━\u001b[0m\u001b[37m\u001b[0m \u001b[1m8s\u001b[0m 17ms/step - accuracy: 0.7021 - loss: 0.9992 - val_accuracy: 0.8421 - val_loss: 0.7387\n",
            "Epoch 13/50\n",
            "\u001b[1m469/469\u001b[0m \u001b[32m━━━━━━━━━━━━━━━━━━━━\u001b[0m\u001b[37m\u001b[0m \u001b[1m8s\u001b[0m 18ms/step - accuracy: 0.7191 - loss: 0.9310 - val_accuracy: 0.8503 - val_loss: 0.6796\n",
            "Epoch 14/50\n",
            "\u001b[1m469/469\u001b[0m \u001b[32m━━━━━━━━━━━━━━━━━━━━\u001b[0m\u001b[37m\u001b[0m \u001b[1m8s\u001b[0m 18ms/step - accuracy: 0.7313 - loss: 0.8793 - val_accuracy: 0.8556 - val_loss: 0.6319\n",
            "Epoch 15/50\n",
            "\u001b[1m469/469\u001b[0m \u001b[32m━━━━━━━━━━━━━━━━━━━━\u001b[0m\u001b[37m\u001b[0m \u001b[1m8s\u001b[0m 18ms/step - accuracy: 0.7525 - loss: 0.8232 - val_accuracy: 0.8618 - val_loss: 0.5922\n",
            "Epoch 16/50\n",
            "\u001b[1m469/469\u001b[0m \u001b[32m━━━━━━━━━━━━━━━━━━━━\u001b[0m\u001b[37m\u001b[0m \u001b[1m8s\u001b[0m 18ms/step - accuracy: 0.7599 - loss: 0.7933 - val_accuracy: 0.8677 - val_loss: 0.5605\n",
            "Epoch 17/50\n",
            "\u001b[1m469/469\u001b[0m \u001b[32m━━━━━━━━━━━━━━━━━━━━\u001b[0m\u001b[37m\u001b[0m \u001b[1m8s\u001b[0m 18ms/step - accuracy: 0.7721 - loss: 0.7559 - val_accuracy: 0.8715 - val_loss: 0.5333\n",
            "Epoch 18/50\n",
            "\u001b[1m469/469\u001b[0m \u001b[32m━━━━━━━━━━━━━━━━━━━━\u001b[0m\u001b[37m\u001b[0m \u001b[1m8s\u001b[0m 18ms/step - accuracy: 0.7735 - loss: 0.7369 - val_accuracy: 0.8736 - val_loss: 0.5106\n",
            "Epoch 19/50\n",
            "\u001b[1m469/469\u001b[0m \u001b[32m━━━━━━━━━━━━━━━━━━━━\u001b[0m\u001b[37m\u001b[0m \u001b[1m8s\u001b[0m 18ms/step - accuracy: 0.7794 - loss: 0.7135 - val_accuracy: 0.8783 - val_loss: 0.4896\n",
            "Epoch 20/50\n",
            "\u001b[1m469/469\u001b[0m \u001b[32m━━━━━━━━━━━━━━━━━━━━\u001b[0m\u001b[37m\u001b[0m \u001b[1m8s\u001b[0m 18ms/step - accuracy: 0.7885 - loss: 0.6939 - val_accuracy: 0.8801 - val_loss: 0.4724\n",
            "Epoch 21/50\n",
            "\u001b[1m469/469\u001b[0m \u001b[32m━━━━━━━━━━━━━━━━━━━━\u001b[0m\u001b[37m\u001b[0m \u001b[1m8s\u001b[0m 18ms/step - accuracy: 0.7936 - loss: 0.6667 - val_accuracy: 0.8844 - val_loss: 0.4564\n",
            "Epoch 22/50\n",
            "\u001b[1m469/469\u001b[0m \u001b[32m━━━━━━━━━━━━━━━━━━━━\u001b[0m\u001b[37m\u001b[0m \u001b[1m8s\u001b[0m 18ms/step - accuracy: 0.7973 - loss: 0.6472 - val_accuracy: 0.8868 - val_loss: 0.4425\n",
            "Epoch 23/50\n",
            "\u001b[1m469/469\u001b[0m \u001b[32m━━━━━━━━━━━━━━━━━━━━\u001b[0m\u001b[37m\u001b[0m \u001b[1m8s\u001b[0m 18ms/step - accuracy: 0.8040 - loss: 0.6360 - val_accuracy: 0.8874 - val_loss: 0.4308\n",
            "Epoch 24/50\n",
            "\u001b[1m469/469\u001b[0m \u001b[32m━━━━━━━━━━━━━━━━━━━━\u001b[0m\u001b[37m\u001b[0m \u001b[1m8s\u001b[0m 18ms/step - accuracy: 0.8109 - loss: 0.6170 - val_accuracy: 0.8893 - val_loss: 0.4196\n",
            "Epoch 25/50\n",
            "\u001b[1m469/469\u001b[0m \u001b[32m━━━━━━━━━━━━━━━━━━━━\u001b[0m\u001b[37m\u001b[0m \u001b[1m8s\u001b[0m 18ms/step - accuracy: 0.8128 - loss: 0.6106 - val_accuracy: 0.8911 - val_loss: 0.4096\n",
            "Epoch 26/50\n",
            "\u001b[1m469/469\u001b[0m \u001b[32m━━━━━━━━━━━━━━━━━━━━\u001b[0m\u001b[37m\u001b[0m \u001b[1m8s\u001b[0m 18ms/step - accuracy: 0.8170 - loss: 0.5994 - val_accuracy: 0.8927 - val_loss: 0.4016\n",
            "Epoch 27/50\n",
            "\u001b[1m469/469\u001b[0m \u001b[32m━━━━━━━━━━━━━━━━━━━━\u001b[0m\u001b[37m\u001b[0m \u001b[1m9s\u001b[0m 18ms/step - accuracy: 0.8188 - loss: 0.5886 - val_accuracy: 0.8952 - val_loss: 0.3933\n",
            "Epoch 28/50\n",
            "\u001b[1m469/469\u001b[0m \u001b[32m━━━━━━━━━━━━━━━━━━━━\u001b[0m\u001b[37m\u001b[0m \u001b[1m9s\u001b[0m 18ms/step - accuracy: 0.8225 - loss: 0.5781 - val_accuracy: 0.8963 - val_loss: 0.3853\n",
            "Epoch 29/50\n",
            "\u001b[1m469/469\u001b[0m \u001b[32m━━━━━━━━━━━━━━━━━━━━\u001b[0m\u001b[37m\u001b[0m \u001b[1m9s\u001b[0m 18ms/step - accuracy: 0.8273 - loss: 0.5659 - val_accuracy: 0.8981 - val_loss: 0.3779\n",
            "Epoch 30/50\n",
            "\u001b[1m469/469\u001b[0m \u001b[32m━━━━━━━━━━━━━━━━━━━━\u001b[0m\u001b[37m\u001b[0m \u001b[1m9s\u001b[0m 18ms/step - accuracy: 0.8290 - loss: 0.5539 - val_accuracy: 0.8994 - val_loss: 0.3714\n",
            "Epoch 31/50\n",
            "\u001b[1m469/469\u001b[0m \u001b[32m━━━━━━━━━━━━━━━━━━━━\u001b[0m\u001b[37m\u001b[0m \u001b[1m9s\u001b[0m 18ms/step - accuracy: 0.8292 - loss: 0.5487 - val_accuracy: 0.9006 - val_loss: 0.3653\n",
            "Epoch 32/50\n",
            "\u001b[1m469/469\u001b[0m \u001b[32m━━━━━━━━━━━━━━━━━━━━\u001b[0m\u001b[37m\u001b[0m \u001b[1m9s\u001b[0m 18ms/step - accuracy: 0.8351 - loss: 0.5388 - val_accuracy: 0.9010 - val_loss: 0.3597\n",
            "Epoch 33/50\n",
            "\u001b[1m469/469\u001b[0m \u001b[32m━━━━━━━━━━━━━━━━━━━━\u001b[0m\u001b[37m\u001b[0m \u001b[1m9s\u001b[0m 18ms/step - accuracy: 0.8386 - loss: 0.5278 - val_accuracy: 0.9025 - val_loss: 0.3538\n",
            "Epoch 34/50\n",
            "\u001b[1m469/469\u001b[0m \u001b[32m━━━━━━━━━━━━━━━━━━━━\u001b[0m\u001b[37m\u001b[0m \u001b[1m9s\u001b[0m 18ms/step - accuracy: 0.8379 - loss: 0.5262 - val_accuracy: 0.9034 - val_loss: 0.3490\n",
            "Epoch 35/50\n",
            "\u001b[1m469/469\u001b[0m \u001b[32m━━━━━━━━━━━━━━━━━━━━\u001b[0m\u001b[37m\u001b[0m \u001b[1m8s\u001b[0m 18ms/step - accuracy: 0.8384 - loss: 0.5247 - val_accuracy: 0.9048 - val_loss: 0.3440\n",
            "Epoch 36/50\n",
            "\u001b[1m469/469\u001b[0m \u001b[32m━━━━━━━━━━━━━━━━━━━━\u001b[0m\u001b[37m\u001b[0m \u001b[1m8s\u001b[0m 18ms/step - accuracy: 0.8445 - loss: 0.5140 - val_accuracy: 0.9060 - val_loss: 0.3396\n",
            "Epoch 37/50\n",
            "\u001b[1m469/469\u001b[0m \u001b[32m━━━━━━━━━━━━━━━━━━━━\u001b[0m\u001b[37m\u001b[0m \u001b[1m8s\u001b[0m 18ms/step - accuracy: 0.8430 - loss: 0.5072 - val_accuracy: 0.9058 - val_loss: 0.3358\n",
            "Epoch 38/50\n",
            "\u001b[1m469/469\u001b[0m \u001b[32m━━━━━━━━━━━━━━━━━━━━\u001b[0m\u001b[37m\u001b[0m \u001b[1m8s\u001b[0m 18ms/step - accuracy: 0.8470 - loss: 0.5032 - val_accuracy: 0.9082 - val_loss: 0.3316\n",
            "Epoch 39/50\n",
            "\u001b[1m469/469\u001b[0m \u001b[32m━━━━━━━━━━━━━━━━━━━━\u001b[0m\u001b[37m\u001b[0m \u001b[1m8s\u001b[0m 18ms/step - accuracy: 0.8474 - loss: 0.4965 - val_accuracy: 0.9081 - val_loss: 0.3276\n",
            "Epoch 40/50\n",
            "\u001b[1m469/469\u001b[0m \u001b[32m━━━━━━━━━━━━━━━━━━━━\u001b[0m\u001b[37m\u001b[0m \u001b[1m8s\u001b[0m 18ms/step - accuracy: 0.8489 - loss: 0.4957 - val_accuracy: 0.9099 - val_loss: 0.3235\n",
            "Epoch 41/50\n",
            "\u001b[1m469/469\u001b[0m \u001b[32m━━━━━━━━━━━━━━━━━━━━\u001b[0m\u001b[37m\u001b[0m \u001b[1m8s\u001b[0m 18ms/step - accuracy: 0.8547 - loss: 0.4789 - val_accuracy: 0.9114 - val_loss: 0.3196\n",
            "Epoch 42/50\n",
            "\u001b[1m469/469\u001b[0m \u001b[32m━━━━━━━━━━━━━━━━━━━━\u001b[0m\u001b[37m\u001b[0m \u001b[1m8s\u001b[0m 18ms/step - accuracy: 0.8550 - loss: 0.4765 - val_accuracy: 0.9116 - val_loss: 0.3166\n",
            "Epoch 43/50\n",
            "\u001b[1m469/469\u001b[0m \u001b[32m━━━━━━━━━━━━━━━━━━━━\u001b[0m\u001b[37m\u001b[0m \u001b[1m8s\u001b[0m 18ms/step - accuracy: 0.8556 - loss: 0.4761 - val_accuracy: 0.9120 - val_loss: 0.3134\n",
            "Epoch 44/50\n",
            "\u001b[1m469/469\u001b[0m \u001b[32m━━━━━━━━━━━━━━━━━━━━\u001b[0m\u001b[37m\u001b[0m \u001b[1m8s\u001b[0m 18ms/step - accuracy: 0.8575 - loss: 0.4708 - val_accuracy: 0.9126 - val_loss: 0.3101\n",
            "Epoch 45/50\n",
            "\u001b[1m469/469\u001b[0m \u001b[32m━━━━━━━━━━━━━━━━━━━━\u001b[0m\u001b[37m\u001b[0m \u001b[1m8s\u001b[0m 18ms/step - accuracy: 0.8609 - loss: 0.4676 - val_accuracy: 0.9131 - val_loss: 0.3070\n",
            "Epoch 46/50\n",
            "\u001b[1m469/469\u001b[0m \u001b[32m━━━━━━━━━━━━━━━━━━━━\u001b[0m\u001b[37m\u001b[0m \u001b[1m8s\u001b[0m 18ms/step - accuracy: 0.8612 - loss: 0.4684 - val_accuracy: 0.9136 - val_loss: 0.3047\n",
            "Epoch 47/50\n",
            "\u001b[1m469/469\u001b[0m \u001b[32m━━━━━━━━━━━━━━━━━━━━\u001b[0m\u001b[37m\u001b[0m \u001b[1m8s\u001b[0m 18ms/step - accuracy: 0.8590 - loss: 0.4655 - val_accuracy: 0.9147 - val_loss: 0.3009\n",
            "Epoch 48/50\n",
            "\u001b[1m469/469\u001b[0m \u001b[32m━━━━━━━━━━━━━━━━━━━━\u001b[0m\u001b[37m\u001b[0m \u001b[1m8s\u001b[0m 18ms/step - accuracy: 0.8620 - loss: 0.4562 - val_accuracy: 0.9153 - val_loss: 0.2981\n",
            "Epoch 49/50\n",
            "\u001b[1m469/469\u001b[0m \u001b[32m━━━━━━━━━━━━━━━━━━━━\u001b[0m\u001b[37m\u001b[0m \u001b[1m8s\u001b[0m 18ms/step - accuracy: 0.8636 - loss: 0.4543 - val_accuracy: 0.9159 - val_loss: 0.2952\n",
            "Epoch 50/50\n",
            "\u001b[1m469/469\u001b[0m \u001b[32m━━━━━━━━━━━━━━━━━━━━\u001b[0m\u001b[37m\u001b[0m \u001b[1m8s\u001b[0m 18ms/step - accuracy: 0.8626 - loss: 0.4474 - val_accuracy: 0.9165 - val_loss: 0.2924\n",
            "Test loss: 0.2923600673675537\n",
            "Test accuracy: 0.9164999723434448\n"
          ]
        }
      ],
      "source": [
        "batch_size = 128\n",
        "num_classes = 10\n",
        "epochs = 50\n",
        "\n",
        "# input image dimensions\n",
        "img_rows, img_cols = 28, 28\n",
        "\n",
        "# the data, shuffled and split between train and test sets\n",
        "(x_train, y_train), (x_test, y_test) = mnist.load_data()\n",
        "\n",
        "if K.image_data_format() == 'channels_first':\n",
        "    x_train = x_train.reshape(x_train.shape[0], 1, img_rows, img_cols)\n",
        "    x_test = x_test.reshape(x_test.shape[0], 1, img_rows, img_cols)\n",
        "    input_shape = (1, img_rows, img_cols)\n",
        "else:\n",
        "    x_train = x_train.reshape(x_train.shape[0], img_rows, img_cols, 1)\n",
        "    x_test = x_test.reshape(x_test.shape[0], img_rows, img_cols, 1)\n",
        "    input_shape = (img_rows, img_cols, 1)\n",
        "\n",
        "x_train = x_train.astype('float32')\n",
        "x_test = x_test.astype('float32')\n",
        "x_train /= 255\n",
        "x_test /= 255\n",
        "print('x_train shape:', x_train.shape)\n",
        "print(x_train.shape[0], 'train samples')\n",
        "print(x_test.shape[0], 'test samples')\n",
        "\n",
        "# convert class vectors to binary class matrices\n",
        "y_train = keras.utils.to_categorical(y_train, num_classes)\n",
        "y_test = keras.utils.to_categorical(y_test, num_classes)\n",
        "\n",
        "model = Sequential()\n",
        "model.add(Conv2D(32, kernel_size=(3, 3),\n",
        "                 activation='relu',\n",
        "                 input_shape=input_shape))\n",
        "model.add(Conv2D(64, (3, 3), activation='relu'))\n",
        "model.add(MaxPooling2D(pool_size=(2, 2)))\n",
        "model.add(Dropout(0.25))\n",
        "model.add(Flatten())\n",
        "model.add(Dense(128, activation='relu'))\n",
        "model.add(Dropout(0.5))\n",
        "model.add(Dense(num_classes, activation='softmax'))\n",
        "\n",
        "model.compile(loss=keras.losses.categorical_crossentropy,\n",
        "              optimizer=keras.optimizers.Adadelta(),\n",
        "              metrics=['accuracy'])\n",
        "\n",
        "history = model.fit(x_train, y_train,\n",
        "                    batch_size=batch_size,\n",
        "                    epochs=epochs,\n",
        "                    verbose=1,\n",
        "                    validation_data=(x_test, y_test))\n",
        "score = model.evaluate(x_test, y_test, verbose=0)\n",
        "print('Test loss:', score[0])\n",
        "print('Test accuracy:', score[1])\n"
      ]
    },
    {
      "cell_type": "code",
      "execution_count": null,
      "metadata": {
        "colab": {
          "base_uri": "https://localhost:8080/",
          "height": 451
        },
        "id": "TBGrzYyw-ruj",
        "outputId": "8dfa072e-b25e-4b79-f617-674473591371",
        "vscode": {
          "languageId": "python"
        }
      },
      "outputs": [
        {
          "data": {
            "image/png": "[encoded data removed]",
            "text/plain": [
              "<Figure size 800x500 with 1 Axes>"
            ]
          },
          "metadata": {},
          "output_type": "display_data"
        }
      ],
      "source": [
        "import pandas as pd\n",
        "import matplotlib.pyplot as plt\n",
        "\n",
        "pd.DataFrame(history.history).plot(figsize=(8, 5))\n",
        "plt.grid(True)\n",
        "plt.gca().set_ylim(0, 1) # set the vertical range to [0-1]\n",
        "plt.show()"
      ]
    },
    {
      "cell_type": "markdown",
      "metadata": {
        "id": "xCSx5oxpItwv"
      },
      "source": [
        "## mnist_mlp.py\n"
      ]
    },
    {
      "cell_type": "code",
      "execution_count": null,
      "metadata": {
        "id": "FGLryCAuItX6",
        "vscode": {
          "languageId": "python"
        }
      },
      "outputs": [],
      "source": [
        "'''Trains a simple deep NN on the MNIST dataset.\n",
        "\n",
        "Gets to 98.40% test accuracy after 20 epochs\n",
        "(there is *a lot* of margin for parameter tuning).\n",
        "2 seconds per epoch on a K520 GPU.\n",
        "'''\n",
        "\n",
        "from __future__ import print_function\n",
        "\n",
        "import keras\n",
        "from keras.datasets import mnist\n",
        "from keras.models import Sequential\n",
        "from keras.layers import Dense, Dropout\n",
        "from keras.optimizers import RMSprop"
      ]
    },
    {
      "cell_type": "code",
      "execution_count": null,
      "metadata": {
        "colab": {
          "base_uri": "https://localhost:8080/",
          "height": 1000
        },
        "id": "QOopey4iJTAS",
        "outputId": "cac59d72-8f9f-4eab-f56c-b190f5bc86a3",
        "vscode": {
          "languageId": "python"
        }
      },
      "outputs": [
        {
          "name": "stdout",
          "output_type": "stream",
          "text": [
            "60000 train samples\n",
            "10000 test samples\n"
          ]
        },
        {
          "name": "stderr",
          "output_type": "stream",
          "text": [
            "/vol/home/s4451856/miniconda3/envs/IDL/lib/python3.12/site-packages/keras/src/layers/core/dense.py:87: UserWarning: Do not pass an `input_shape`/`input_dim` argument to a layer. When using Sequential models, prefer using an `Input(shape)` object as the first layer in the model instead.\n",
            "  super().__init__(activity_regularizer=activity_regularizer, **kwargs)\n"
          ]
        },
        {
          "data": {
            "text/html": [
              "<pre style=\"white-space:pre;overflow-x:auto;line-height:normal;font-family:Menlo,'DejaVu Sans Mono',consolas,'Courier New',monospace\"><span style=\"font-weight: bold\">Model: \"sequential_23\"</span>\n",
              "</pre>\n"
            ],
            "text/plain": [
              "\u001b[1mModel: \"sequential_23\"\u001b[0m\n"
            ]
          },
          "metadata": {},
          "output_type": "display_data"
        },
        {
          "data": {
            "text/html": [
              "<pre style=\"white-space:pre;overflow-x:auto;line-height:normal;font-family:Menlo,'DejaVu Sans Mono',consolas,'Courier New',monospace\">┏━━━━━━━━━━━━━━━━━━━━━━━━━━━━━━━━━┳━━━━━━━━━━━━━━━━━━━━━━━━┳━━━━━━━━━━━━━━━┓\n",
              "┃<span style=\"font-weight: bold\"> Layer (type)                    </span>┃<span style=\"font-weight: bold\"> Output Shape           </span>┃<span style=\"font-weight: bold\">       Param # </span>┃\n",
              "┡━━━━━━━━━━━━━━━━━━━━━━━━━━━━━━━━━╇━━━━━━━━━━━━━━━━━━━━━━━━╇━━━━━━━━━━━━━━━┩\n",
              "│ dense_66 (<span style=\"color: #0087ff; text-decoration-color: #0087ff\">Dense</span>)                │ (<span style=\"color: #00d7ff; text-decoration-color: #00d7ff\">None</span>, <span style=\"color: #00af00; text-decoration-color: #00af00\">512</span>)            │       <span style=\"color: #00af00; text-decoration-color: #00af00\">401,920</span> │\n",
              "├─────────────────────────────────┼────────────────────────┼───────────────┤\n",
              "│ dropout_8 (<span style=\"color: #0087ff; text-decoration-color: #0087ff\">Dropout</span>)             │ (<span style=\"color: #00d7ff; text-decoration-color: #00d7ff\">None</span>, <span style=\"color: #00af00; text-decoration-color: #00af00\">512</span>)            │             <span style=\"color: #00af00; text-decoration-color: #00af00\">0</span> │\n",
              "├─────────────────────────────────┼────────────────────────┼───────────────┤\n",
              "│ dense_67 (<span style=\"color: #0087ff; text-decoration-color: #0087ff\">Dense</span>)                │ (<span style=\"color: #00d7ff; text-decoration-color: #00d7ff\">None</span>, <span style=\"color: #00af00; text-decoration-color: #00af00\">512</span>)            │       <span style=\"color: #00af00; text-decoration-color: #00af00\">262,656</span> │\n",
              "├─────────────────────────────────┼────────────────────────┼───────────────┤\n",
              "│ dropout_9 (<span style=\"color: #0087ff; text-decoration-color: #0087ff\">Dropout</span>)             │ (<span style=\"color: #00d7ff; text-decoration-color: #00d7ff\">None</span>, <span style=\"color: #00af00; text-decoration-color: #00af00\">512</span>)            │             <span style=\"color: #00af00; text-decoration-color: #00af00\">0</span> │\n",
              "├─────────────────────────────────┼────────────────────────┼───────────────┤\n",
              "│ dense_68 (<span style=\"color: #0087ff; text-decoration-color: #0087ff\">Dense</span>)                │ (<span style=\"color: #00d7ff; text-decoration-color: #00d7ff\">None</span>, <span style=\"color: #00af00; text-decoration-color: #00af00\">10</span>)             │         <span style=\"color: #00af00; text-decoration-color: #00af00\">5,130</span> │\n",
              "└─────────────────────────────────┴────────────────────────┴───────────────┘\n",
              "</pre>\n"
            ],
            "text/plain": [
              "┏━━━━━━━━━━━━━━━━━━━━━━━━━━━━━━━━━┳━━━━━━━━━━━━━━━━━━━━━━━━┳━━━━━━━━━━━━━━━┓\n",
              "┃\u001b[1m \u001b[0m\u001b[1mLayer (type)                   \u001b[0m\u001b[1m \u001b[0m┃\u001b[1m \u001b[0m\u001b[1mOutput Shape          \u001b[0m\u001b[1m \u001b[0m┃\u001b[1m \u001b[0m\u001b[1m      Param #\u001b[0m\u001b[1m \u001b[0m┃\n",
              "┡━━━━━━━━━━━━━━━━━━━━━━━━━━━━━━━━━╇━━━━━━━━━━━━━━━━━━━━━━━━╇━━━━━━━━━━━━━━━┩\n",
              "│ dense_66 (\u001b[38;5;33mDense\u001b[0m)                │ (\u001b[38;5;45mNone\u001b[0m, \u001b[38;5;34m512\u001b[0m)            │       \u001b[38;5;34m401,920\u001b[0m │\n",
              "├─────────────────────────────────┼────────────────────────┼───────────────┤\n",
              "│ dropout_8 (\u001b[38;5;33mDropout\u001b[0m)             │ (\u001b[38;5;45mNone\u001b[0m, \u001b[38;5;34m512\u001b[0m)            │             \u001b[38;5;34m0\u001b[0m │\n",
              "├─────────────────────────────────┼────────────────────────┼───────────────┤\n",
              "│ dense_67 (\u001b[38;5;33mDense\u001b[0m)                │ (\u001b[38;5;45mNone\u001b[0m, \u001b[38;5;34m512\u001b[0m)            │       \u001b[38;5;34m262,656\u001b[0m │\n",
              "├─────────────────────────────────┼────────────────────────┼───────────────┤\n",
              "│ dropout_9 (\u001b[38;5;33mDropout\u001b[0m)             │ (\u001b[38;5;45mNone\u001b[0m, \u001b[38;5;34m512\u001b[0m)            │             \u001b[38;5;34m0\u001b[0m │\n",
              "├─────────────────────────────────┼────────────────────────┼───────────────┤\n",
              "│ dense_68 (\u001b[38;5;33mDense\u001b[0m)                │ (\u001b[38;5;45mNone\u001b[0m, \u001b[38;5;34m10\u001b[0m)             │         \u001b[38;5;34m5,130\u001b[0m │\n",
              "└─────────────────────────────────┴────────────────────────┴───────────────┘\n"
            ]
          },
          "metadata": {},
          "output_type": "display_data"
        },
        {
          "data": {
            "text/html": [
              "<pre style=\"white-space:pre;overflow-x:auto;line-height:normal;font-family:Menlo,'DejaVu Sans Mono',consolas,'Courier New',monospace\"><span style=\"font-weight: bold\"> Total params: </span><span style=\"color: #00af00; text-decoration-color: #00af00\">669,706</span> (2.55 MB)\n",
              "</pre>\n"
            ],
            "text/plain": [
              "\u001b[1m Total params: \u001b[0m\u001b[38;5;34m669,706\u001b[0m (2.55 MB)\n"
            ]
          },
          "metadata": {},
          "output_type": "display_data"
        },
        {
          "data": {
            "text/html": [
              "<pre style=\"white-space:pre;overflow-x:auto;line-height:normal;font-family:Menlo,'DejaVu Sans Mono',consolas,'Courier New',monospace\"><span style=\"font-weight: bold\"> Trainable params: </span><span style=\"color: #00af00; text-decoration-color: #00af00\">669,706</span> (2.55 MB)\n",
              "</pre>\n"
            ],
            "text/plain": [
              "\u001b[1m Trainable params: \u001b[0m\u001b[38;5;34m669,706\u001b[0m (2.55 MB)\n"
            ]
          },
          "metadata": {},
          "output_type": "display_data"
        },
        {
          "data": {
            "text/html": [
              "<pre style=\"white-space:pre;overflow-x:auto;line-height:normal;font-family:Menlo,'DejaVu Sans Mono',consolas,'Courier New',monospace\"><span style=\"font-weight: bold\"> Non-trainable params: </span><span style=\"color: #00af00; text-decoration-color: #00af00\">0</span> (0.00 B)\n",
              "</pre>\n"
            ],
            "text/plain": [
              "\u001b[1m Non-trainable params: \u001b[0m\u001b[38;5;34m0\u001b[0m (0.00 B)\n"
            ]
          },
          "metadata": {},
          "output_type": "display_data"
        },
        {
          "name": "stdout",
          "output_type": "stream",
          "text": [
            "Epoch 1/20\n",
            "\u001b[1m469/469\u001b[0m \u001b[32m━━━━━━━━━━━━━━━━━━━━\u001b[0m\u001b[37m\u001b[0m \u001b[1m5s\u001b[0m 10ms/step - accuracy: 0.8595 - loss: 0.4469 - val_accuracy: 0.9649 - val_loss: 0.1122\n",
            "Epoch 2/20\n",
            "\u001b[1m469/469\u001b[0m \u001b[32m━━━━━━━━━━━━━━━━━━━━\u001b[0m\u001b[37m\u001b[0m \u001b[1m5s\u001b[0m 10ms/step - accuracy: 0.9652 - loss: 0.1119 - val_accuracy: 0.9690 - val_loss: 0.1018\n",
            "Epoch 3/20\n",
            "\u001b[1m469/469\u001b[0m \u001b[32m━━━━━━━━━━━━━━━━━━━━\u001b[0m\u001b[37m\u001b[0m \u001b[1m5s\u001b[0m 10ms/step - accuracy: 0.9777 - loss: 0.0717 - val_accuracy: 0.9769 - val_loss: 0.0775\n",
            "Epoch 4/20\n",
            "\u001b[1m469/469\u001b[0m \u001b[32m━━━━━━━━━━━━━━━━━━━━\u001b[0m\u001b[37m\u001b[0m \u001b[1m5s\u001b[0m 10ms/step - accuracy: 0.9814 - loss: 0.0583 - val_accuracy: 0.9796 - val_loss: 0.0694\n",
            "Epoch 5/20\n",
            "\u001b[1m469/469\u001b[0m \u001b[32m━━━━━━━━━━━━━━━━━━━━\u001b[0m\u001b[37m\u001b[0m \u001b[1m5s\u001b[0m 10ms/step - accuracy: 0.9855 - loss: 0.0448 - val_accuracy: 0.9806 - val_loss: 0.0647\n",
            "Epoch 6/20\n",
            "\u001b[1m469/469\u001b[0m \u001b[32m━━━━━━━━━━━━━━━━━━━━\u001b[0m\u001b[37m\u001b[0m \u001b[1m5s\u001b[0m 10ms/step - accuracy: 0.9878 - loss: 0.0390 - val_accuracy: 0.9827 - val_loss: 0.0631\n",
            "Epoch 7/20\n",
            "\u001b[1m469/469\u001b[0m \u001b[32m━━━━━━━━━━━━━━━━━━━━\u001b[0m\u001b[37m\u001b[0m \u001b[1m5s\u001b[0m 10ms/step - accuracy: 0.9894 - loss: 0.0343 - val_accuracy: 0.9835 - val_loss: 0.0618\n",
            "Epoch 8/20\n",
            "\u001b[1m469/469\u001b[0m \u001b[32m━━━━━━━━━━━━━━━━━━━━\u001b[0m\u001b[37m\u001b[0m \u001b[1m5s\u001b[0m 10ms/step - accuracy: 0.9912 - loss: 0.0272 - val_accuracy: 0.9812 - val_loss: 0.0725\n",
            "Epoch 9/20\n",
            "\u001b[1m469/469\u001b[0m \u001b[32m━━━━━━━━━━━━━━━━━━━━\u001b[0m\u001b[37m\u001b[0m \u001b[1m4s\u001b[0m 10ms/step - accuracy: 0.9916 - loss: 0.0255 - val_accuracy: 0.9838 - val_loss: 0.0651\n",
            "Epoch 10/20\n",
            "\u001b[1m469/469\u001b[0m \u001b[32m━━━━━━━━━━━━━━━━━━━━\u001b[0m\u001b[37m\u001b[0m \u001b[1m5s\u001b[0m 10ms/step - accuracy: 0.9929 - loss: 0.0222 - val_accuracy: 0.9839 - val_loss: 0.0659\n",
            "Epoch 11/20\n",
            "\u001b[1m469/469\u001b[0m \u001b[32m━━━━━━━━━━━━━━━━━━━━\u001b[0m\u001b[37m\u001b[0m \u001b[1m5s\u001b[0m 10ms/step - accuracy: 0.9939 - loss: 0.0201 - val_accuracy: 0.9818 - val_loss: 0.0698\n",
            "Epoch 12/20\n",
            "\u001b[1m469/469\u001b[0m \u001b[32m━━━━━━━━━━━━━━━━━━━━\u001b[0m\u001b[37m\u001b[0m \u001b[1m5s\u001b[0m 10ms/step - accuracy: 0.9940 - loss: 0.0182 - val_accuracy: 0.9826 - val_loss: 0.0704\n",
            "Epoch 13/20\n",
            "\u001b[1m469/469\u001b[0m \u001b[32m━━━━━━━━━━━━━━━━━━━━\u001b[0m\u001b[37m\u001b[0m \u001b[1m5s\u001b[0m 10ms/step - accuracy: 0.9954 - loss: 0.0142 - val_accuracy: 0.9831 - val_loss: 0.0758\n",
            "Epoch 14/20\n",
            "\u001b[1m469/469\u001b[0m \u001b[32m━━━━━━━━━━━━━━━━━━━━\u001b[0m\u001b[37m\u001b[0m \u001b[1m5s\u001b[0m 10ms/step - accuracy: 0.9954 - loss: 0.0138 - val_accuracy: 0.9838 - val_loss: 0.0716\n",
            "Epoch 15/20\n",
            "\u001b[1m469/469\u001b[0m \u001b[32m━━━━━━━━━━━━━━━━━━━━\u001b[0m\u001b[37m\u001b[0m \u001b[1m5s\u001b[0m 10ms/step - accuracy: 0.9956 - loss: 0.0130 - val_accuracy: 0.9843 - val_loss: 0.0651\n",
            "Epoch 16/20\n",
            "\u001b[1m469/469\u001b[0m \u001b[32m━━━━━━━━━━━━━━━━━━━━\u001b[0m\u001b[37m\u001b[0m \u001b[1m5s\u001b[0m 10ms/step - accuracy: 0.9953 - loss: 0.0141 - val_accuracy: 0.9855 - val_loss: 0.0765\n",
            "Epoch 17/20\n",
            "\u001b[1m469/469\u001b[0m \u001b[32m━━━━━━━━━━━━━━━━━━━━\u001b[0m\u001b[37m\u001b[0m \u001b[1m5s\u001b[0m 10ms/step - accuracy: 0.9962 - loss: 0.0123 - val_accuracy: 0.9866 - val_loss: 0.0766\n",
            "Epoch 18/20\n",
            "\u001b[1m469/469\u001b[0m \u001b[32m━━━━━━━━━━━━━━━━━━━━\u001b[0m\u001b[37m\u001b[0m \u001b[1m5s\u001b[0m 10ms/step - accuracy: 0.9963 - loss: 0.0117 - val_accuracy: 0.9855 - val_loss: 0.0766\n",
            "Epoch 19/20\n",
            "\u001b[1m469/469\u001b[0m \u001b[32m━━━━━━━━━━━━━━━━━━━━\u001b[0m\u001b[37m\u001b[0m \u001b[1m5s\u001b[0m 10ms/step - accuracy: 0.9968 - loss: 0.0096 - val_accuracy: 0.9839 - val_loss: 0.0870\n",
            "Epoch 20/20\n",
            "\u001b[1m469/469\u001b[0m \u001b[32m━━━━━━━━━━━━━━━━━━━━\u001b[0m\u001b[37m\u001b[0m \u001b[1m5s\u001b[0m 10ms/step - accuracy: 0.9971 - loss: 0.0086 - val_accuracy: 0.9853 - val_loss: 0.0778\n",
            "Test loss: 0.07779843360185623\n",
            "Test accuracy: 0.9853000044822693\n"
          ]
        }
      ],
      "source": [
        "batch_size = 128\n",
        "num_classes = 10\n",
        "epochs = 20\n",
        "\n",
        "# the data, shuffled and split between train and test sets\n",
        "(x_train, y_train), (x_test, y_test) = mnist.load_data()\n",
        "\n",
        "x_train = x_train.reshape(60000, 784)\n",
        "x_test = x_test.reshape(10000, 784)\n",
        "x_train = x_train.astype('float32')\n",
        "x_test = x_test.astype('float32')\n",
        "x_train /= 255\n",
        "x_test /= 255\n",
        "print(x_train.shape[0], 'train samples')\n",
        "print(x_test.shape[0], 'test samples')\n",
        "\n",
        "# convert class vectors to binary class matrices\n",
        "y_train = keras.utils.to_categorical(y_train, num_classes)\n",
        "y_test = keras.utils.to_categorical(y_test, num_classes)\n",
        "\n",
        "model = Sequential()\n",
        "model.add(Dense(512, activation='relu', input_shape=(784,)))\n",
        "model.add(Dropout(0.2))\n",
        "model.add(Dense(512, activation='relu'))\n",
        "model.add(Dropout(0.2))\n",
        "model.add(Dense(10, activation='softmax'))\n",
        "\n",
        "model.summary()\n",
        "\n",
        "model.compile(loss='categorical_crossentropy',\n",
        "              optimizer=RMSprop(),\n",
        "              metrics=['accuracy'])\n",
        "\n",
        "history = model.fit(x_train, y_train,\n",
        "                    batch_size=batch_size,\n",
        "                    epochs=epochs,\n",
        "                    verbose=1,\n",
        "                    validation_data=(x_test, y_test))\n",
        "score = model.evaluate(x_test, y_test, verbose=0)\n",
        "print('Test loss:', score[0])\n",
        "print('Test accuracy:', score[1])"
      ]
    },
    {
      "cell_type": "code",
      "execution_count": null,
      "metadata": {
        "colab": {
          "base_uri": "https://localhost:8080/",
          "height": 451
        },
        "id": "b7f9ISJCJXqn",
        "outputId": "f71d0dbe-d84c-4557-f5c7-8a9c7fa801d8",
        "vscode": {
          "languageId": "python"
        }
      },
      "outputs": [
        {
          "data": {
            "image/png": "[encoded data removed]",
            "text/plain": [
              "<Figure size 800x500 with 1 Axes>"
            ]
          },
          "metadata": {},
          "output_type": "display_data"
        }
      ],
      "source": [
        "pd.DataFrame(history.history).plot(figsize=(8, 5))\n",
        "plt.grid(True)\n",
        "plt.gca().set_ylim(0, 1) # set the vertical range to [0-1]\n",
        "plt.show()"
      ]
    },
    {
      "cell_type": "markdown",
      "metadata": {
        "id": "2wUM1haUKc2q"
      },
      "source": [
        "# T1.2: Fashion MNIST\n",
        "\n",
        "## (a) Multi-Layer Perceptron"
      ]
    },
    {
      "cell_type": "code",
      "execution_count": null,
      "metadata": {
        "id": "nkWfjHSuKvVq",
        "vscode": {
          "languageId": "python"
        }
      },
      "outputs": [],
      "source": [
        "import os\n",
        "os.environ[\"KERAS_BACKEND\"] = \"tensorflow\"\n",
        "\n",
        "fashion_mnist = keras.datasets.fashion_mnist\n",
        "(xTrainFull, yTrainFull), (xTest, yTest) = fashion_mnist.load_data()\n",
        "\n",
        "xVal, xTrain = xTrainFull[:5000] / 255.0, xTrainFull[5000:] / 255.0\n",
        "yVal, yTrain = yTrainFull[:5000], yTrainFull[5000:]\n",
        "\n",
        "classNames = [\"T-shirt/top\", \"Trouser\", \"Pullover\", \"Dress\", \"Coat\",\n",
        " \"Sandal\", \"Shirt\", \"Sneaker\", \"Bag\", \"Ankle boot\"]\n",
        "\n",
        "\n",
        "def MLPModelTest(xTrain, yTrain, xVal, yVal, xTest, yTest,\n",
        "                 hiddenLayers=1,\n",
        "                 outputActivation=\"softmax\",\n",
        "                 optimiser=\"sgd\",\n",
        "                 epochs=20,\n",
        "                 alpha=5):\n",
        "\n",
        "  MLPModel = Sequential()\n",
        "  MLPModel.add(keras.layers.Flatten(input_shape=[28, 28]))\n",
        "\n",
        "  for i in range(hiddenLayers):\n",
        "    MLPModel.add(keras.layers.Dense(300, activation=\"relu\"))\n",
        "    MLPModel.add(keras.layers.Dense(100, activation=\"relu\"))\n",
        "\n",
        "\n",
        "  MLPModel.add(keras.layers.Dense(10, activation=outputActivation))\n",
        "\n",
        "  MLPModel.compile(loss=\"sparse_categorical_crossentropy\",\n",
        "  optimizer=optimiser,\n",
        "  metrics=[\"accuracy\"])\n",
        "\n",
        "  history = MLPModel.fit(xTrain, yTrain, epochs=epochs,\n",
        "                      validation_data=(xVal, yVal))\n",
        "\n",
        "  pd.DataFrame(history.history).plot(figsize=(8, 5))\n",
        "  plt.grid(True)\n",
        "  plt.gca().set_ylim(0, 1) # set the vertical range to [0-1]\n",
        "  plt.show()\n",
        "\n",
        "  test_loss, test_acc = MLPModel.evaluate(xTest,  yTest, verbose=2)\n",
        "  print(f\"Hidden layers: {hiddenLayers}\")\n",
        "  print(f\"Optimiser: {optimiser}\")\n",
        "  print(f\"Activation: {outputActivation}\")\n",
        "  print(f\"Alpha: {alpha}\")\n",
        "  print(f\"Epochs: {epochs}\")\n",
        "  print(f\"Test loss: {test_loss}\")\n",
        "  print(f\"Test accuracy: {test_acc}\")\n",
        "\n",
        "  return test_acc"
      ]
    },
    {
      "cell_type": "markdown",
      "metadata": {
        "id": "NfhBDw0_OqOJ"
      },
      "source": [
        "## (b) Convolutional Neural Network"
      ]
    },
    {
      "cell_type": "code",
      "execution_count": null,
      "metadata": {
        "id": "LruP8ZWdOpZ7",
        "vscode": {
          "languageId": "python"
        }
      },
      "outputs": [],
      "source": [
        "from re import X\n",
        "\n",
        "def CNNModelTest(xTrain, yTrain, xVal, yVal, xTest, yTest, hiddenLayers=2,\n",
        "                 outputActivation=\"softmax\",\n",
        "                 optimiser=\"sgd\",\n",
        "                 epochs=20):\n",
        "\n",
        "  CNNModel = Sequential()\n",
        "  CNNModel.add(Conv2D(28, (3, 3), activation='relu', input_shape=(28, 28, 1)))\n",
        "  CNNModel.add(MaxPooling2D((2, 2)))\n",
        "  CNNModel.add(Conv2D(64, (3, 3), activation='relu'))\n",
        "  CNNModel.add(MaxPooling2D((2, 2)))\n",
        "  CNNModel.add(Conv2D(64, (3, 3), activation='relu'))\n",
        "\n",
        "  CNNModel.add(Flatten())\n",
        "\n",
        "  for i in range(hiddenLayers):\n",
        "    CNNModel.add(Dense(64, activation='relu'))\n",
        "\n",
        "  CNNModel.add(Dense(10), activation=outputActivation)\n",
        "\n",
        "  CNNModel.compile(optimizer=optimiser,\n",
        "                loss=keras.losses.SparseCategoricalCrossentropy(from_logits=True),\n",
        "                metrics=['accuracy'])\n",
        "\n",
        "\n",
        "  history = CNNModel.fit(xTrain, yTrain, epochs=epochs,\n",
        "                      validation_data=(xVal, yVal))\n",
        "\n",
        "  pd.DataFrame(history.history).plot(figsize=(8, 5))\n",
        "  plt.grid(True)\n",
        "  plt.gca().set_ylim(0, 1) # set the vertical range to [0-1]\n",
        "  plt.show()\n",
        "\n",
        "  test_loss, test_acc = CNNModel.evaluate(xTest,  yTest, verbose=2)\n",
        "\n",
        "  print(f\"Hidden layers: {hiddenLayers}\")\n",
        "  print(f\"Optimiser: {optimiser}\")\n",
        "  print(f\"Activation: {outputActivation}\")\n",
        "  print(f\"Epochs: {epochs}\")\n",
        "  print(f\"Test loss: {test_loss}\")\n",
        "  print(f\"Test accuracy: {test_acc}\")\n",
        "\n",
        "  return test_acc"
      ]
    },
    {
      "cell_type": "markdown",
      "metadata": {
        "id": "sJgeeR0lLubP"
      },
      "source": [
        "## Experimentation and Evaluation\n",
        "\n",
        "### MLP Model Evaluation\n",
        "\n",
        "Naive approach, best hyperparameters:\n",
        "\n",
        "Hidden layers: 1\n",
        "\n",
        "Optimiser: Adam\n",
        "\n",
        "Activation: \n",
        "\n",
        "Alpha:\n",
        "\n",
        "Epochs: 30\n",
        "\n",
        "Test loss: 70.1425552368164\n",
        "\n",
        "Test accuracy: 0.8331000208854675"
      ]
    },
    {
      "cell_type": "code",
      "execution_count": null,
      "metadata": {
        "colab": {
          "background_save": true,
          "base_uri": "https://localhost:8080/"
        },
        "id": "qOSRqMNMGoH3",
        "outputId": "31ded925-fc5d-4a5a-9692-8eb146673a6a",
        "vscode": {
          "languageId": "python"
        }
      },
      "outputs": [
        {
          "ename": "TypeError",
          "evalue": "Sequential.__init__() got an unexpected keyword argument 'alpha'",
          "output_type": "error",
          "traceback": [
            "\u001b[0;31m---------------------------------------------------------------------------\u001b[0m",
            "\u001b[0;31mTypeError\u001b[0m                                 Traceback (most recent call last)",
            "Cell \u001b[0;32mIn[26], line 41\u001b[0m\n\u001b[1;32m     38\u001b[0m bestActivation \u001b[38;5;241m=\u001b[39m (\u001b[38;5;124m\"\u001b[39m\u001b[38;5;124m\"\u001b[39m, \u001b[38;5;241m0\u001b[39m)\n\u001b[1;32m     39\u001b[0m \u001b[38;5;28;01mfor\u001b[39;00m activation \u001b[38;5;129;01min\u001b[39;00m [\u001b[38;5;124m\"\u001b[39m\u001b[38;5;124mrelu\u001b[39m\u001b[38;5;124m\"\u001b[39m, \u001b[38;5;124m\"\u001b[39m\u001b[38;5;124msigmoid\u001b[39m\u001b[38;5;124m\"\u001b[39m, \u001b[38;5;124m\"\u001b[39m\u001b[38;5;124msoftmax\u001b[39m\u001b[38;5;124m\"\u001b[39m, \u001b[38;5;124m\"\u001b[39m\u001b[38;5;124msoftplus\u001b[39m\u001b[38;5;124m\"\u001b[39m, \u001b[38;5;124m\"\u001b[39m\u001b[38;5;124msoftsign\u001b[39m\u001b[38;5;124m\"\u001b[39m,\n\u001b[1;32m     40\u001b[0m                    \u001b[38;5;124m\"\u001b[39m\u001b[38;5;124mtanh\u001b[39m\u001b[38;5;124m\"\u001b[39m, \u001b[38;5;124m\"\u001b[39m\u001b[38;5;124mselu\u001b[39m\u001b[38;5;124m\"\u001b[39m, \u001b[38;5;124m\"\u001b[39m\u001b[38;5;124melu\u001b[39m\u001b[38;5;124m\"\u001b[39m, \u001b[38;5;124m\"\u001b[39m\u001b[38;5;124mexponential\u001b[39m\u001b[38;5;124m\"\u001b[39m]:\n\u001b[0;32m---> 41\u001b[0m   accuracy \u001b[38;5;241m=\u001b[39m MLPModelTest(xTrain, yTrain, xVal, yVal, xTest, yTest,\n\u001b[1;32m     42\u001b[0m                           outputActivation\u001b[38;5;241m=\u001b[39mactivation,\n\u001b[1;32m     43\u001b[0m                           epochs\u001b[38;5;241m=\u001b[39mbestEpochs[\u001b[38;5;241m0\u001b[39m],\n\u001b[1;32m     44\u001b[0m                           optimiser\u001b[38;5;241m=\u001b[39mbestOptimiser[\u001b[38;5;241m0\u001b[39m])\n\u001b[1;32m     46\u001b[0m   \u001b[38;5;28;01mif\u001b[39;00m accuracy \u001b[38;5;241m>\u001b[39m bestActivation[\u001b[38;5;241m1\u001b[39m]:\n\u001b[1;32m     47\u001b[0m     bestActivation \u001b[38;5;241m=\u001b[39m (activation, accuracy)\n",
            "Cell \u001b[0;32mIn[25], line 21\u001b[0m, in \u001b[0;36mMLPModelTest\u001b[0;34m(xTrain, yTrain, xVal, yVal, xTest, yTest, hiddenLayers, outputActivation, optimiser, epochs, alpha)\u001b[0m\n\u001b[1;32m     14\u001b[0m \u001b[38;5;28;01mdef\u001b[39;00m \u001b[38;5;21mMLPModelTest\u001b[39m(xTrain, yTrain, xVal, yVal, xTest, yTest,\n\u001b[1;32m     15\u001b[0m                  hiddenLayers\u001b[38;5;241m=\u001b[39m\u001b[38;5;241m1\u001b[39m,\n\u001b[1;32m     16\u001b[0m                  outputActivation\u001b[38;5;241m=\u001b[39m\u001b[38;5;124m\"\u001b[39m\u001b[38;5;124msoftmax\u001b[39m\u001b[38;5;124m\"\u001b[39m,\n\u001b[1;32m     17\u001b[0m                  optimiser\u001b[38;5;241m=\u001b[39m\u001b[38;5;124m\"\u001b[39m\u001b[38;5;124msgd\u001b[39m\u001b[38;5;124m\"\u001b[39m,\n\u001b[1;32m     18\u001b[0m                  epochs\u001b[38;5;241m=\u001b[39m\u001b[38;5;241m20\u001b[39m,\n\u001b[1;32m     19\u001b[0m                  alpha\u001b[38;5;241m=\u001b[39m\u001b[38;5;241m5\u001b[39m):\n\u001b[0;32m---> 21\u001b[0m   MLPModel \u001b[38;5;241m=\u001b[39m Sequential(alpha\u001b[38;5;241m=\u001b[39malpha)\n\u001b[1;32m     22\u001b[0m   MLPModel\u001b[38;5;241m.\u001b[39madd(keras\u001b[38;5;241m.\u001b[39mlayers\u001b[38;5;241m.\u001b[39mFlatten(input_shape\u001b[38;5;241m=\u001b[39m[\u001b[38;5;241m28\u001b[39m, \u001b[38;5;241m28\u001b[39m]))\n\u001b[1;32m     24\u001b[0m   \u001b[38;5;28;01mfor\u001b[39;00m i \u001b[38;5;129;01min\u001b[39;00m \u001b[38;5;28mrange\u001b[39m(hiddenLayers):\n",
            "\u001b[0;31mTypeError\u001b[0m: Sequential.__init__() got an unexpected keyword argument 'alpha'"
          ]
        }
      ],
      "source": [
        "import numpy as np\n",
        "\n",
        "# MLP model eval\n",
        "# Epochs\n",
        "bestEpochs = (30, 0)\n",
        "#for epochs in [20, 25, 30, 35, 40, 45, 50]:\n",
        "  #accuracy = MLPModelTest(xTrain, yTrain, xVal, yVal, xTest, yTest, epochs=epochs)\n",
        "\n",
        "  #if accuracy > bestEpochs[1]:\n",
        "    #bestEpochs = (epochs, accuracy)\n",
        "\n",
        "  #else:\n",
        "    #break\n",
        "\n",
        "\n",
        "# Optimiser\n",
        "bestOptimiser = (\"Adam\", 0)\n",
        "#for optimiser in [\"SGD\",\n",
        "#                  \"RMSprop\",\n",
        "#                  \"Adam\",\n",
        "#                  \"AdamW\",\n",
        "#                  \"Adadelta\",\n",
        "#                  \"Adagrad\",\n",
        "#                  \"Adamax\",\n",
        "#                  \"Adafactor\",\n",
        "#                  \"Nadam\",\n",
        "#                  \"Ftrl\",\n",
        "#                  \"Lion\"]:\n",
        "#  accuracy = MLPModelTest(xTrain, yTrain, xVal, yVal, xTest, yTest,\n",
        "#                          epochs=bestEpochs[0],\n",
        "#                          optimiser=optimiser)\n",
        "\n",
        "#  if accuracy > bestOptimiser[1]:\n",
        "#    bestOptimiser = (optimiser, accuracy)\n",
        "\n",
        "\n",
        "# Output activation function\n",
        "bestActivation = (\"\", 0)\n",
        "for activation in [\"relu\", \"sigmoid\", \"softmax\", \"softplus\", \"softsign\",\n",
        "                   \"tanh\", \"selu\", \"elu\", \"exponential\"]:\n",
        "  accuracy = MLPModelTest(xTrain, yTrain, xVal, yVal, xTest, yTest,\n",
        "                          outputActivation=activation,\n",
        "                          epochs=bestEpochs[0],\n",
        "                          optimiser=bestOptimiser[0])\n",
        "\n",
        "  if accuracy > bestActivation[1]:\n",
        "    bestActivation = (activation, accuracy)\n",
        "\n",
        "\n",
        "# Hidden Layers\n",
        "bestHidden = (0, 0)\n",
        "for layers in range(1, 10):\n",
        "  accuracy = MLPModelTest(xTrain, yTrain, xVal, yVal, xTest, yTest,\n",
        "                          hiddenLayers=layers,\n",
        "                          outputActivation=bestActivation[0],\n",
        "                          epochs=bestEpochs[0],\n",
        "                          optimiser=bestOptimiser[0])\n",
        "\n",
        "  if accuracy > bestHidden[1]:\n",
        "    bestHidden = (layers, accuracy)\n",
        "\n",
        "  else:\n",
        "    break\n",
        "\n",
        "\n",
        "# Regularisations\n",
        "bestAlpha = (0, 0)\n",
        "alphas = np.logspace(-10, -2, 200)\n",
        "for alpha in alphas:\n",
        "  accuracy = MLPModelTest(xTrain, yTrain, xVal, yVal, xTest, yTest,\n",
        "                          hiddenLayers=bestHidden[0],\n",
        "                          outputActivation=bestActivation[0],\n",
        "                          epochs=bestEpochs[0],\n",
        "                          optimiser=bestOptimiser[0],\n",
        "                          alpha=alpha)\n",
        "\n",
        "  if accuracy > bestAlpha[1]:\n",
        "    bestAlpha = (layers, accuracy)\n",
        "\n",
        "  else:\n",
        "    break\n",
        "\n",
        "print(f\"Hidden layers: {bestHidden[0]}\")\n",
        "print(f\"Optimiser: {bestOptimiser[0]}\")\n",
        "print(f\"Activation: {bestActivation[0]}\")\n",
        "\n",
        "print(f\"Epochs: {bestEpochs[0]}\")\n",
        "print(f\"Test accuracy: {best}\")\n"
      ]
    }
  ],
  "metadata": {
    "accelerator": "GPU",
    "colab": {
      "gpuType": "T4",
      "provenance": []
    },
    "kernelspec": {
      "display_name": "Python 3 (ipykernel)",
      "language": "python",
      "name": "python3"
    },
    "language_info": {
      "name": "",
      "version": ""
    }
  },
  "nbformat": 4,
  "nbformat_minor": 0
}
